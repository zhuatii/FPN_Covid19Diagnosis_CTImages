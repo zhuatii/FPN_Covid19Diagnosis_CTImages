{
 "cells": [
  {
   "cell_type": "markdown",
   "metadata": {
    "colab_type": "text",
    "id": "view-in-github"
   },
   "source": [
    "<a href=\"https://colab.research.google.com/github/zhuatii/FPN_Covid19Diagnosis_CTImages/blob/main/FPN_Train%26Validation.ipynb\" target=\"_parent\"><img src=\"https://colab.research.google.com/assets/colab-badge.svg\" alt=\"Open In Colab\"/></a>"
   ]
  },
  {
   "cell_type": "code",
   "execution_count": 2,
   "metadata": {
    "colab": {
     "base_uri": "https://localhost:8080/"
    },
    "id": "zWyKnATutSoN",
    "outputId": "ea81e6f2-193e-4762-97b8-cfc77141e26a"
   },
   "outputs": [],
   "source": [
    "# from google.colab import drive\n",
    "# drive.mount('/content/drive')"
   ]
  },
  {
   "cell_type": "code",
   "execution_count": 53,
   "metadata": {
    "id": "I9-0cNMrtMGb"
   },
   "outputs": [],
   "source": [
    "import os\n",
    "import numpy as np\n",
    "import pandas as pd\n",
    "import torch\n",
    "from torch.utils.data import Dataset, DataLoader\n",
    "import torch.nn as nn\n",
    "import torch.nn.functional as F\n",
    "from torchvision.models import resnet50, ResNet50_Weights, ResNet18_Weights, resnet18\n",
    "from torchvision import transforms, io\n",
    "from sklearn.utils import shuffle\n",
    "from PIL import Image\n",
    "import matplotlib.pyplot as plt\n",
    "import seaborn as sns\n",
    "from sklearn.metrics import confusion_matrix, f1_score\n",
    "\n",
    "\n",
    "device = torch.device('cuda' if torch.cuda.is_available() else 'cpu')\n",
    "# os.environ['CUDA_LAUNCH_BLOCKING']= \"1\"\n",
    "# os.environ['TORCH_USE_CUDA_DSA'] = \"1\""
   ]
  },
  {
   "cell_type": "markdown",
   "metadata": {
    "id": "C1i4sOwEtMGf"
   },
   "source": [
    "## Creating Custom Dataset for loading the data to the models"
   ]
  },
  {
   "cell_type": "code",
   "execution_count": 5,
   "metadata": {
    "id": "b42Rpa1BtMGh"
   },
   "outputs": [
    {
     "name": "stderr",
     "output_type": "stream",
     "text": [
      "<>:2: SyntaxWarning: invalid escape sequence '\\g'\n",
      "<>:3: SyntaxWarning: invalid escape sequence '\\g'\n",
      "<>:2: SyntaxWarning: invalid escape sequence '\\g'\n",
      "<>:3: SyntaxWarning: invalid escape sequence '\\g'\n",
      "C:\\Users\\bswat\\AppData\\Local\\Temp\\ipykernel_6072\\1490844544.py:2: SyntaxWarning: invalid escape sequence '\\g'\n",
      "  labels_path = \"D:\\github\\CTData\\Annotation\\CSV\"\n",
      "C:\\Users\\bswat\\AppData\\Local\\Temp\\ipykernel_6072\\1490844544.py:3: SyntaxWarning: invalid escape sequence '\\g'\n",
      "  images_path = \"D:\\github\\CTData\\TrainValidation\"\n"
     ]
    }
   ],
   "source": [
    "### Paths to the dataframe containing\n",
    "labels_path = \"D:\\github\\CTData\\Annotation\\CSV\"\n",
    "images_path = \"D:\\github\\CTData\\TrainValidation\"\n",
    "\n",
    "train_folds = [os.path.join(labels_path,\"train1.csv\"),os.path.join(labels_path,\"train2.csv\"),\n",
    "               os.path.join(labels_path,\"train3.csv\"), os.path.join(labels_path,\"train4.csv\"),\n",
    "               os.path.join(labels_path,\"train1.csv\")]\n",
    "\n",
    "val_folds = [os.path.join(labels_path,\"validation1.csv\"), os.path.join(labels_path,\"validation2.csv\"),\n",
    "            os.path.join(labels_path,\"validation3.csv\"), os.path.join(labels_path,\"validation4.csv\"),\n",
    "             os.path.join(labels_path,\"validation5.csv\")]\n",
    "\n",
    "test_folds = [os.path.join(labels_path,\"test1.csv\"), os.path.join(labels_path,\"test2.csv\"),\n",
    "            os.path.join(labels_path,\"test3.csv\"), os.path.join(labels_path,\"test4.csv\"),\n",
    "             os.path.join(labels_path,\"test5.csv\")]"
   ]
  },
  {
   "cell_type": "code",
   "execution_count": 6,
   "metadata": {
    "id": "gP_eSLaCtMGi"
   },
   "outputs": [],
   "source": [
    "class DataClass(Dataset):\n",
    "\n",
    "    def __init__(self, annotations, transform = None):\n",
    "        self.df = pd.read_csv(annotations)\n",
    "        self.transform = transform\n",
    "\n",
    "    def __getitem__(self, idx):\n",
    "        img_path = os.path.join(images_path,self.df.iloc[idx, 0])\n",
    "        label = self.df.iloc[idx, 1]\n",
    "        if label == 'covid':\n",
    "          target = 1\n",
    "        else:\n",
    "          target = 0\n",
    "        image = Image.open(img_path)\n",
    "\n",
    "        if self.transform:\n",
    "            image = self.transform(image)\n",
    "\n",
    "        return image, target\n",
    "\n",
    "    def __len__(self):\n",
    "        return len(self.df)"
   ]
  },
  {
   "cell_type": "code",
   "execution_count": 7,
   "metadata": {
    "id": "bsJgdHIOtMGj"
   },
   "outputs": [],
   "source": [
    "train_transforms = transforms.Compose([\n",
    "    transforms.RandomHorizontalFlip(),\n",
    "    transforms.RandomVerticalFlip(),\n",
    "    transforms.RandomRotation(360),\n",
    "    transforms.RandomAffine(degrees=0, translate=(0.05, 0.05), shear=0.05),\n",
    "    transforms.ToTensor()\n",
    "])\n",
    "\n",
    "test_transforms = transforms.Compose([transforms.ToTensor()])"
   ]
  },
  {
   "cell_type": "code",
   "execution_count": 8,
   "metadata": {
    "id": "W7P5lSrVtMGj"
   },
   "outputs": [],
   "source": [
    "i = 1 ### Takes values [0,1,2,3,4]. Eavh value of i loads a different dataset\n",
    "\n",
    "\n",
    "TrainDataClass = DataClass(train_folds[i], train_transforms)\n",
    "ValDataClass = DataClass(val_folds[i], test_transforms)\n",
    "TestDataClass = DataClass(test_folds[i], test_transforms)\n",
    "\n",
    "shape=(512,512,1)"
   ]
  },
  {
   "cell_type": "code",
   "execution_count": 9,
   "metadata": {},
   "outputs": [
    {
     "data": {
      "text/plain": [
       "(3715, 915, 8343)"
      ]
     },
     "execution_count": 9,
     "metadata": {},
     "output_type": "execute_result"
    }
   ],
   "source": [
    "len(TrainDataClass), len(ValDataClass), len(TestDataClass)"
   ]
  },
  {
   "cell_type": "code",
   "execution_count": 35,
   "metadata": {},
   "outputs": [],
   "source": [
    "def ClassDist(data):\n",
    "    dist = torch.Tensor([0,0])\n",
    "    for _, label in data:\n",
    "        dist[label]+=1\n",
    "    return dist"
   ]
  },
  {
   "cell_type": "code",
   "execution_count": 142,
   "metadata": {},
   "outputs": [
    {
     "data": {
      "text/plain": [
       "<BarContainer object of 2 artists>"
      ]
     },
     "execution_count": 142,
     "metadata": {},
     "output_type": "execute_result"
    },
    {
     "data": {
      "image/png": "[encoded data removed]",
      "text/plain": [
       "<Figure size 1200x400 with 3 Axes>"
      ]
     },
     "metadata": {},
     "output_type": "display_data"
    }
   ],
   "source": [
    "#[not covid, covid]\n",
    "# trainDist = ClassDist(TrainDataClass)\n",
    "# valDist = ClassDist(ValDataClass)\n",
    "# testDist = ClassDist(TestDataClass)\n",
    "\n",
    "classes = ['0','1']\n",
    "\n",
    "plt.figure(figsize = (12,4))\n",
    "plt.suptitle(\"Dataset Distributions\", fontsize = 14)\n",
    "\n",
    "fig1 = plt.subplot(1,3,1)\n",
    "fig1.set_title(\"Train\")\n",
    "plt.bar(classes, trainDist, color = 'pink')\n",
    "\n",
    "fig2 = plt.subplot(1,3,2)\n",
    "fig2.set_title(\"Val\")\n",
    "plt.bar(classes, valDist, color = 'teal')\n",
    "\n",
    "fig3 = plt.subplot(1,3,3)\n",
    "fig3.set_title(\"Test\")\n",
    "plt.bar(classes,testDist, color = 'slateblue')"
   ]
  },
  {
   "cell_type": "code",
   "execution_count": 94,
   "metadata": {},
   "outputs": [
    {
     "data": {
      "text/plain": [
       "tensor([7878.,  465.])"
      ]
     },
     "execution_count": 94,
     "metadata": {},
     "output_type": "execute_result"
    }
   ],
   "source": [
    "testDist"
   ]
  },
  {
   "cell_type": "code",
   "execution_count": 10,
   "metadata": {
    "id": "GpFv4BXXtMGk"
   },
   "outputs": [],
   "source": [
    "### Data Loaders for the train, test and validation splits.\n",
    "\n",
    "TrainDataLoader = DataLoader(TrainDataClass, batch_size = 14, shuffle = True)\n",
    "ValDataLoader = DataLoader(ValDataClass, batch_size = 10, shuffle = False)\n",
    "TestDataLoader = DataLoader(TestDataClass, batch_size = 10, shuffle = False)"
   ]
  },
  {
   "cell_type": "markdown",
   "metadata": {},
   "source": [
    "## Implementation of the FPN architecture with ResNet backbone.\n",
    "\n",
    "The implementation of the model proposed for Covid detection from CT images in the paper by Rahimzadeh et al. The model is huge with more trainable parameters than what my system could handle. I replicated the same for the pupose of learning how to build a PyTorch model from scratch with transfer learning. I used the Keras code given as reference along with the paper in the github [repo](https://github.com/mr7495/COVID-CT-Code/blob/master/COVID_Train%26Validation.ipynb)."
   ]
  },
  {
   "cell_type": "code",
   "execution_count": 152,
   "metadata": {},
   "outputs": [],
   "source": [
    "class FPNModel50(nn.Module):\n",
    "\n",
    "    def __init__(self, num_classes = 2, feature_size = 64):\n",
    "        super().__init__()\n",
    "        shape=(512,512,1)   ### Specify the dimensions of the input image\n",
    "\n",
    "        backbone = resnet50(weights=ResNet50_Weights.DEFAULT).to(device)\n",
    "\n",
    "        input_size = shape\n",
    "        feature_size = 64\n",
    "\n",
    "        self.C1 = nn.Conv2d(1, 64, kernel_size=7, stride=2, padding=3, bias=False).to(device)    #### Output filters = 64, image shape is now 256 x 256\n",
    "\n",
    "        self.InputBlock = nn.Sequential(\n",
    "            backbone._modules['bn1'],\n",
    "            backbone._modules['relu'], \n",
    "            backbone._modules['maxpool']\n",
    "        )                                       #### Output filters = 64, no change to image shape\n",
    "\n",
    "        #### Extract layers for FPN\n",
    "        self.layer_names = [\"layer1\", \"layer2\", \"layer3\", 'layer4']\n",
    "        self.C2, self.C3, self.C4, self.C5 = [backbone._modules[name] for name in self.layer_names]\n",
    "\n",
    "        ### C2 output filters = 256\n",
    "        ### C3 output filters = 512\n",
    "        ### C4 output filters = 1024\n",
    "        ### C5 output filters = 2048\n",
    "        ### All these modules preserve the image shape, i.e. (256 x 256)\n",
    "\n",
    "        conv_layers = [self.InputBlock, self.C2, self.C3, self.C4, self.C5]\n",
    "\n",
    "        ### Setting these parameters to be fixed and not to be learnt by the model\n",
    "        for layer in conv_layers:                         \n",
    "            for params in layer.parameters():\n",
    "                params.requires_grad = False\n",
    "\n",
    "        \n",
    "        ### Layers for feature extraction: P3, P4, P5, P6, P7 : all aimed to maintain output dimension to 256x256\n",
    "        self.P5 = nn.Conv2d(2048, feature_size, kernel_size=1, stride=1, padding=1).to(device)\n",
    "        self.P4 = nn.Conv2d(1024, feature_size, kernel_size=1, stride=1, padding=1).to(device)\n",
    "        self.P3 = nn.Conv2d(512, feature_size, kernel_size=1, stride=1, padding=1).to(device)\n",
    "        \n",
    "        self.P5_conv = nn.Conv2d(feature_size, feature_size, kernel_size=3, stride=1, padding=1).to(device)\n",
    "        self.P4_conv = nn.Conv2d(feature_size, feature_size, kernel_size=3, stride=1, padding=1).to(device)\n",
    "\n",
    "        self.P6 = nn.Conv2d(feature_size, feature_size, kernel_size=3, stride=1, padding=2).to(device)\n",
    "        self.P7 = nn.Conv2d(feature_size, feature_size, kernel_size=3, stride=1, padding=2).to(device)\n",
    "\n",
    "        # Classification layers\n",
    "        def FPred():\n",
    "            return nn.Sequential(\n",
    "                nn.Flatten(),\n",
    "                nn.Dropout(0.5),\n",
    "                nn.Linear(256 * 256 * feature_size, num_classes),\n",
    "                nn.ReLU()\n",
    "            ).to(device)\n",
    "\n",
    "        self.F1 = FPred()\n",
    "        self.F2 = FPred()\n",
    "        self.F3 = FPred()\n",
    "        self.F4 = FPred()\n",
    "        self.F5 = FPred()\n",
    "\n",
    "        self.Classifier = nn.Sequential(\n",
    "            nn.Flatten(),\n",
    "            nn.Linear(5 * num_classes, 2),\n",
    "            nn.Softmax(dim = 1)\n",
    "        ).to(device)\n",
    "\n",
    "    def forward(self, x):\n",
    "\n",
    "        x = x.to(device, dtype=torch.float32)\n",
    "\n",
    "        C1 = self.C1(x)\n",
    "        C1 = C1.to(device)\n",
    "        C1 = self.InputBlock(C1)\n",
    "        C1 = C1.to(device)\n",
    "        C2 = self.C2(C1)\n",
    "        C2 = C2.to(device)\n",
    "        C3 = self.C3(C2)\n",
    "        C3 = C3.to(device)\n",
    "        C4 = self.C4(C3)\n",
    "        C4 = C4.to(device)\n",
    "        C5 = self.C5(C4)\n",
    "        C5 = C5.to(device)\n",
    "\n",
    "        # FPN forward pass\n",
    "        \n",
    "        P5 = self.P5(C5)\n",
    "        P5 = P5.to(device)\n",
    "        P5_up = F.interpolate(P5, size=C4.shape[2:]) \n",
    "        P5_up = P5_up.to(device)\n",
    "        P5 = self.P5_conv(P5)\n",
    "        P5 = P5.to(device)\n",
    "\n",
    "        P4 = self.P4(C4)\n",
    "        P4 = P4.to(device)\n",
    "        P4 = P4 + P5_up\n",
    "        P4 = P4.to(device)\n",
    "        P4_up = F.interpolate(P4, size=C3.shape[2:])\n",
    "        P4_up = P4_up.to(device)\n",
    "        P4 = self.P4_conv(P4)\n",
    "        P4 = P4.to(device)\n",
    "\n",
    "        P3 = self.P3(P3)\n",
    "        P3 = P3.to(device)\n",
    "        P3 = P3 + P4_up\n",
    "        P3 = P3.to(device)\n",
    "\n",
    "        P6 = self.P6(C5)\n",
    "        P6 = P6.to(device)\n",
    "\n",
    "        P7 = nn.ReLU(P6)\n",
    "        P7 = P7.to(device)\n",
    "        P7 = self.P7(P7)\n",
    "        P7 = P7.to(device)\n",
    "\n",
    "        F1 = self.F1(P3)\n",
    "        F1 = F1.to(device)\n",
    "        F2 = self.F2(P4)\n",
    "        F2 = F2.to(device)\n",
    "        F3 = self.F3(P5)\n",
    "        F3 = F3.to(device)\n",
    "        F4 = self.F4(P6)\n",
    "        F4 = F4.to(device)\n",
    "        F5 = self.F5(P7)\n",
    "        F5 = F5.to(device)\n",
    "\n",
    "        # Concatenate the features\n",
    "        features = torch.cat([F1, F2, F3, F4, F5], dim=1)\n",
    "        features = features.to(device)\n",
    "\n",
    "        # Classification\n",
    "        out = self.Classifier(features)\n",
    "        out = out.to(device)\n",
    "\n",
    "        return out"
   ]
  },
  {
   "cell_type": "code",
   "execution_count": 154,
   "metadata": {},
   "outputs": [
    {
     "name": "stdout",
     "output_type": "stream",
     "text": [
      "42323488\n"
     ]
    }
   ],
   "source": [
    "model = FPNModel50()\n",
    "total_params = sum(p.numel() for p in model.parameters() if p.requires_grad)\n",
    "print(total_params)"
   ]
  },
  {
   "cell_type": "markdown",
   "metadata": {},
   "source": [
    "The below model is a smaller modified version of the proposed model with **ResNet18** as the backbone for feature extraction. The below model has about 1 million parameters to be trained, and is thus implemented and tested. From the original architecture, the following changes have been made.\n",
    "\n",
    "- The input figure is reduced to 1/4th its dimension as compared to the original, which reduces it to 1/2 in the first convolution layer.\n",
    "- The number of layers in the FPN is reduced to 2 from 5.\n",
    "- The number of features (filters) extracted from each layer of the FPN architecture is reduced to 3 from 256."
   ]
  },
  {
   "cell_type": "code",
   "execution_count": 19,
   "metadata": {
    "id": "TYblwciOtMGk"
   },
   "outputs": [],
   "source": [
    "class FPNModel18(nn.Module):\n",
    "\n",
    "    def __init__(self, num_classes = 2, feature_size = 64):\n",
    "        super().__init__()\n",
    "        shape=(512,512,1)\n",
    "\n",
    "        backbone = resnet18(weights=ResNet18_Weights.DEFAULT).to(device)\n",
    "\n",
    "        input_size = shape\n",
    "        feature_size = 3\n",
    "\n",
    "        self.C1 = nn.Conv2d(1, 64, kernel_size=8, stride=4, padding=2, bias=False).to(device)\n",
    "\n",
    "        #### Extract layers for FPN\n",
    "        self.layer_names = [\"layer1\", \"layer2\"]\n",
    "        self.C2, self.C3 = [backbone._modules[name] for name in self.layer_names]\n",
    "\n",
    "        ### C2 output size = 64\n",
    "        ### C3 output size = 128\n",
    "\n",
    "        conv_layers = [self.C2, self.C3]\n",
    "\n",
    "        for module in conv_layers:\n",
    "          for params in module.parameters():\n",
    "            params.requires_grad = False\n",
    "\n",
    "        self.P3 = nn.Conv2d(128, feature_size, kernel_size=3, stride=1, padding=1).to(device)\n",
    "        # self.P3_conv = nn.Conv2d(feature_size, feature_size, kernel_size=3, stride=1, padding=1).to(device)\n",
    "\n",
    "        self.P2 = nn.Conv2d(64, feature_size, kernel_size=3, stride=2, padding=1).to(device)\n",
    "        # self.P1 = nn.Conv2d(feature_size, feature_size, kernel_size=3, stride=2, padding=1).to(device)\n",
    "\n",
    "        # Classification layers\n",
    "        self.FPred = nn.Sequential(\n",
    "            nn.Flatten(),\n",
    "            nn.Dropout(0.5),\n",
    "            nn.Linear(64 * 64 * feature_size, num_classes),\n",
    "            nn.ReLU()\n",
    "        ).to(device)\n",
    "\n",
    "        self.Classifier = nn.Sequential(\n",
    "            nn.Flatten(),\n",
    "            nn.Linear(2 * num_classes, 2),\n",
    "            nn.Softmax(dim = 1)\n",
    "        ).to(device)\n",
    "\n",
    "    def forward(self, x):\n",
    "\n",
    "        x = x.to(device, dtype=torch.float32)\n",
    "\n",
    "        C1 = self.C1(x)\n",
    "        C1 = C1.to(device)\n",
    "        C2 = self.C2(C1)\n",
    "        C2 = C2.to(device)\n",
    "        C3 = self.C3(C2)\n",
    "        C3 = C3.to(device)\n",
    "\n",
    "        # FPN forward pass\n",
    "        P3 = self.P3(C3)\n",
    "        P3 = P3.to(device)\n",
    "        # P3 = self.P3_conv(P3)\n",
    "        # P3 = P3.to(device)\n",
    "\n",
    "        P2 = self.P2(C2)\n",
    "        P2 = P2.to(device)\n",
    "        P2 = F.interpolate(P3, size=P2.shape[2:]) + P2\n",
    "        P2 = F.relu(P2)\n",
    "\n",
    "        F2 = self.FPred(P2)\n",
    "        F2 = F2.to(device)\n",
    "        F3 = self.FPred(P3)\n",
    "        F3 = F3.to(device)\n",
    "\n",
    "        # Concatenate the features\n",
    "        features = torch.cat([F2, F3], dim=1)\n",
    "        features = features.to(device)\n",
    "\n",
    "        # Classification\n",
    "        out = self.Classifier(features)\n",
    "        out = out.to(device)\n",
    "\n",
    "        return out"
   ]
  },
  {
   "cell_type": "code",
   "execution_count": 160,
   "metadata": {
    "id": "cq8ykvoS8SLq"
   },
   "outputs": [],
   "source": [
    "model = FPNModel18()\n",
    "# model = FPNModel50()\n",
    "\n",
    "optimizer = torch.optim.Adam(model.parameters(), lr=0.0001)\n",
    "criterion = nn.CrossEntropyLoss()"
   ]
  },
  {
   "cell_type": "code",
   "execution_count": 23,
   "metadata": {
    "colab": {
     "base_uri": "https://localhost:8080/"
    },
    "id": "FVXPvYrKQCe1",
    "outputId": "9c54fda9-6f8f-454f-a01b-17562aae1b70"
   },
   "outputs": [
    {
     "name": "stdout",
     "output_type": "stream",
     "text": [
      "33874\n"
     ]
    }
   ],
   "source": [
    "total_params = sum(p.numel() for p in model.parameters() if p.requires_grad)\n",
    "print(total_params)"
   ]
  },
  {
   "cell_type": "markdown",
   "metadata": {},
   "source": [
    "## Model Training"
   ]
  },
  {
   "cell_type": "code",
   "execution_count": 172,
   "metadata": {},
   "outputs": [],
   "source": [
    "def test(dataloader, model, loss_fn):\n",
    "    size = len(dataloader.dataset)\n",
    "    batches = len(dataloader)\n",
    "    \n",
    "    model.eval()\n",
    "    test_loss = 0\n",
    "    correct = 0\n",
    "    \n",
    "    with torch.no_grad():\n",
    "        for (X,y) in dataloader:\n",
    "            X = X.to(device)\n",
    "            y = y.to(device)\n",
    "            pred = model(X).to(device)\n",
    "            test_loss += loss_fn(pred, y).item()\n",
    "            correct += (pred.argmax(axis = 1) == y).type(torch.float).sum().item()\n",
    "\n",
    "        test_loss = test_loss/batches\n",
    "        correct = correct/ size\n",
    "    print(f\"Error: Average Loss = {test_loss:>8f}, Accuracy = {correct*100 :>0.1f}%\")"
   ]
  },
  {
   "cell_type": "code",
   "execution_count": 182,
   "metadata": {
    "colab": {
     "base_uri": "https://localhost:8080/"
    },
    "id": "dZmXkTpmoPZd",
    "outputId": "ed59646e-7b59-4159-b434-5f71c148d98f"
   },
   "outputs": [
    {
     "name": "stdout",
     "output_type": "stream",
     "text": [
      "\n",
      "Epoch 1 \n",
      "______________________________\n",
      "Loss : 0.632737 [   14 /  3715]\n",
      "Loss : 0.514990 [  714 /  3715]\n",
      "Loss : 0.459011 [ 1414 /  3715]\n",
      "Loss : 0.651449 [ 2114 /  3715]\n",
      "Loss : 0.490426 [ 2814 /  3715]\n",
      "Loss : 0.477844 [ 3514 /  3715]\n",
      "Training error: Average Loss = 0.522506\n",
      "Error: Average Loss = 0.509321, Accuracy = 79.6%\n",
      "\n",
      "Epoch 2 \n",
      "______________________________\n",
      "Loss : 0.631504 [   14 /  3715]\n",
      "Loss : 0.410565 [  714 /  3715]\n",
      "Loss : 0.435491 [ 1414 /  3715]\n",
      "Loss : 0.403391 [ 2114 /  3715]\n",
      "Loss : 0.486080 [ 2814 /  3715]\n",
      "Loss : 0.572022 [ 3514 /  3715]\n",
      "Training error: Average Loss = 0.514798\n",
      "Error: Average Loss = 0.512488, Accuracy = 79.0%\n",
      "\n",
      "Epoch 3 \n",
      "______________________________\n",
      "Loss : 0.488061 [   14 /  3715]\n",
      "Loss : 0.394583 [  714 /  3715]\n",
      "Loss : 0.480142 [ 1414 /  3715]\n",
      "Loss : 0.588544 [ 2114 /  3715]\n",
      "Loss : 0.435260 [ 2814 /  3715]\n",
      "Loss : 0.537488 [ 3514 /  3715]\n",
      "Training error: Average Loss = 0.519161\n",
      "Error: Average Loss = 0.510266, Accuracy = 79.1%\n",
      "\n",
      "Epoch 4 \n",
      "______________________________\n",
      "Loss : 0.577597 [   14 /  3715]\n",
      "Loss : 0.498827 [  714 /  3715]\n",
      "Loss : 0.639550 [ 1414 /  3715]\n",
      "Loss : 0.622880 [ 2114 /  3715]\n",
      "Loss : 0.430119 [ 2814 /  3715]\n",
      "Loss : 0.444951 [ 3514 /  3715]\n",
      "Training error: Average Loss = 0.521750\n",
      "Error: Average Loss = 0.510608, Accuracy = 79.6%\n",
      "\n",
      "Epoch 5 \n",
      "______________________________\n",
      "Loss : 0.528424 [   14 /  3715]\n",
      "Loss : 0.570894 [  714 /  3715]\n",
      "Loss : 0.479993 [ 1414 /  3715]\n",
      "Loss : 0.560080 [ 2114 /  3715]\n",
      "Loss : 0.430277 [ 2814 /  3715]\n",
      "Loss : 0.532002 [ 3514 /  3715]\n",
      "Training error: Average Loss = 0.520568\n",
      "Error: Average Loss = 0.509027, Accuracy = 79.7%\n"
     ]
    }
   ],
   "source": [
    "num_epochs = 5\n",
    "size = len(TrainDataLoader.dataset)\n",
    "batches = len(TrainDataLoader)\n",
    "\n",
    "for epoch in range(num_epochs):\n",
    "    model.to(device)\n",
    "    model.train()\n",
    "    train_loss = 0\n",
    "    print(f\"\\nEpoch {epoch+1} \\n______________________________\")\n",
    "    for batch, (images, labels) in enumerate(TrainDataLoader):\n",
    "        optimizer.zero_grad()\n",
    "        outputs = model(images)\n",
    "        loss = criterion(outputs, labels.to(device))\n",
    "        loss.backward()\n",
    "        optimizer.step()\n",
    "        train_loss += loss.item()\n",
    "        if batch%50 == 0:\n",
    "            current = (batch+1)*len(images)    # No. of data points the model has been trained on\n",
    "            loss = loss.item()          # Get the loss value of the current training sample\n",
    "            print(f\"Loss : {loss:>7f} [{current:>5d} / {size:>5d}]\")\n",
    "    \n",
    "    print(f\"Training error: Average Loss = {train_loss/batches:>8f}\")  \n",
    "    test(ValDataLoader, model, criterion)"
   ]
  },
  {
   "cell_type": "code",
   "execution_count": 168,
   "metadata": {},
   "outputs": [
    {
     "name": "stderr",
     "output_type": "stream",
     "text": [
      "C:\\Users\\bswat\\AppData\\Local\\Temp\\ipykernel_6072\\2404147224.py:1: FutureWarning: You are using `torch.load` with `weights_only=False` (the current default value), which uses the default pickle module implicitly. It is possible to construct malicious pickle data which will execute arbitrary code during unpickling (See https://github.com/pytorch/pytorch/blob/main/SECURITY.md#untrusted-models for more details). In a future release, the default value for `weights_only` will be flipped to `True`. This limits the functions that could be executed during unpickling. Arbitrary objects will no longer be allowed to be loaded via this mode unless they are explicitly allowlisted by the user via `torch.serialization.add_safe_globals`. We recommend you start setting `weights_only=True` for any use case where you don't have full control of the loaded file. Please open an issue on GitHub for any issues related to this experimental feature.\n",
      "  model = torch.load(\"FPNFold2\")\n"
     ]
    }
   ],
   "source": [
    "model = torch.load(\"FPNFold2\")"
   ]
  },
  {
   "cell_type": "code",
   "execution_count": 190,
   "metadata": {},
   "outputs": [],
   "source": [
    "torch.save(model, \"FPNFold2\")"
   ]
  },
  {
   "cell_type": "markdown",
   "metadata": {},
   "source": [
    "The training loss is not desirable for the newly constructed model. The cross entropy loss is quite high. The possible ways to fix this is tuning the hyperparameters (learning rate) with the validation set or trying a different network architecture."
   ]
  },
  {
   "cell_type": "markdown",
   "metadata": {},
   "source": [
    "## Testing the Model Results"
   ]
  },
  {
   "cell_type": "code",
   "execution_count": 184,
   "metadata": {},
   "outputs": [
    {
     "name": "stdout",
     "output_type": "stream",
     "text": [
      "Error: Average Loss = 0.509335, Accuracy = 79.8%\n"
     ]
    }
   ],
   "source": [
    "### Train Error\n",
    "\n",
    "test(TrainDataLoader, model, criterion)"
   ]
  },
  {
   "cell_type": "code",
   "execution_count": 185,
   "metadata": {},
   "outputs": [
    {
     "name": "stdout",
     "output_type": "stream",
     "text": [
      "Error: Average Loss = 0.527472, Accuracy = 78.7%\n"
     ]
    }
   ],
   "source": [
    "### Test Error\n",
    "\n",
    "test(TestDataLoader, model, criterion)"
   ]
  },
  {
   "cell_type": "markdown",
   "metadata": {},
   "source": [
    "### Confusion Matrix"
   ]
  },
  {
   "cell_type": "code",
   "execution_count": 186,
   "metadata": {},
   "outputs": [],
   "source": [
    "model.eval()\n",
    "\n",
    "all_preds = []\n",
    "all_labels = []\n",
    "\n",
    "with torch.no_grad():\n",
    "    for inputs, labels in TestDataLoader:\n",
    "        outputs = model(inputs)\n",
    "        \n",
    "        # Get the predicted class \n",
    "        _, preds = torch.max(outputs, 1)\n",
    "        \n",
    "        # Store predictions and labels\n",
    "        all_preds.extend(preds.cpu().numpy())\n",
    "        all_labels.extend(labels.cpu().numpy())"
   ]
  },
  {
   "cell_type": "code",
   "execution_count": 288,
   "metadata": {},
   "outputs": [
    {
     "data": {
      "image/png": "[encoded data removed]",
      "text/plain": [
       "<Figure size 800x600 with 2 Axes>"
      ]
     },
     "metadata": {},
     "output_type": "display_data"
    }
   ],
   "source": [
    "# Compute the confusion matrix\n",
    "conf_matrix = confusion_matrix(all_labels, all_preds)\n",
    "\n",
    "# Plot the confusion matrix using seaborn\n",
    "plt.figure(figsize=(8, 6))\n",
    "sns.heatmap(conf_matrix, annot=True, fmt='d', cmap=\"PiYG\")\n",
    "plt.xlabel('Predicted')\n",
    "plt.ylabel('True')\n",
    "plt.title('Confusion Matrix')\n",
    "plt.show()"
   ]
  },
  {
   "cell_type": "code",
   "execution_count": 188,
   "metadata": {},
   "outputs": [],
   "source": [
    "TN = conf_matrix[0][0]\n",
    "TP = conf_matrix[1][1]\n",
    "\n",
    "FP = conf_matrix[0][1]\n",
    "FN = conf_matrix[1][0]"
   ]
  },
  {
   "cell_type": "markdown",
   "metadata": {},
   "source": [
    "### Precision and Recall"
   ]
  },
  {
   "cell_type": "code",
   "execution_count": 200,
   "metadata": {},
   "outputs": [
    {
     "name": "stdout",
     "output_type": "stream",
     "text": [
      "Precision : 0.180758\n",
      "Recall: 0.800000\n",
      "F1 Score: 0.294887\n"
     ]
    }
   ],
   "source": [
    "precision = TP / (TP+FP)\n",
    "recall = TP / (TP + FN)\n",
    "f1_score = 2*(TP) / (2*TP + FP+ FN)\n",
    "\n",
    "print(f\"Precision : {precision:>5f}\")\n",
    "print(f\"Recall: {recall:5f}\")\n",
    "print(f\"F1 Score: {f1_score:5f}\")"
   ]
  },
  {
   "cell_type": "markdown",
   "metadata": {},
   "source": [
    "## Sample Prediction"
   ]
  },
  {
   "cell_type": "code",
   "execution_count": 276,
   "metadata": {},
   "outputs": [],
   "source": [
    "i = 90\n",
    "inp = torch.Tensor(TestDataClass[i][0])\n",
    "inp = inp.reshape([1, 1, 512, 512])"
   ]
  },
  {
   "cell_type": "code",
   "execution_count": 278,
   "metadata": {},
   "outputs": [],
   "source": [
    "out = model(inp)\n",
    "_, pred = torch.max(out, 1)\n",
    "# inp.shape"
   ]
  },
  {
   "cell_type": "code",
   "execution_count": 286,
   "metadata": {},
   "outputs": [
    {
     "data": {
      "text/plain": [
       "(1, tensor(1, device='cuda:0'))"
      ]
     },
     "execution_count": 286,
     "metadata": {},
     "output_type": "execute_result"
    }
   ],
   "source": [
    "TestDataClass[i][1], pred[0]"
   ]
  }
 ],
 "metadata": {
  "accelerator": "GPU",
  "colab": {
   "gpuType": "T4",
   "include_colab_link": true,
   "provenance": []
  },
  "kaggle": {
   "accelerator": "none",
   "dataSources": [
    {
     "datasetId": 846913,
     "sourceId": 3266479,
     "sourceType": "datasetVersion"
    }
   ],
   "dockerImageVersionId": 30732,
   "isGpuEnabled": false,
   "isInternetEnabled": false,
   "language": "python",
   "sourceType": "notebook"
  },
  "kernelspec": {
   "display_name": "Python 3 (ipykernel)",
   "language": "python",
   "name": "python3"
  },
  "language_info": {
   "codemirror_mode": {
    "name": "ipython",
    "version": 3
   },
   "file_extension": ".py",
   "mimetype": "text/x-python",
   "name": "python",
   "nbconvert_exporter": "python",
   "pygments_lexer": "ipython3",
   "version": "3.12.4"
  }
 },
 "nbformat": 4,
 "nbformat_minor": 4
}
